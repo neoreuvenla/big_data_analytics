{
 "cells": [
  {
   "cell_type": "code",
   "execution_count": 100,
   "id": "44b4ec10",
   "metadata": {},
   "outputs": [
    {
     "data": {
      "text/plain": [
       "Text(0, 0.5, 'Head Length')"
      ]
     },
     "execution_count": 100,
     "metadata": {},
     "output_type": "execute_result"
    },
    {
     "data": {
      "image/png": "[encoded data removed]",
      "text/plain": [
       "<Figure size 432x288 with 1 Axes>"
      ]
     },
     "metadata": {
      "needs_background": "light"
     },
     "output_type": "display_data"
    }
   ],
   "source": [
    "import pandas as pd\n",
    "from matplotlib import pyplot as plt\n",
    "from sklearn.model_selection import train_test_split\n",
    "from sklearn.metrics import mean_squared_error\n",
    "import numpy as np\n",
    " \n",
    " \n",
    "possum_data = pd.read_csv(\"2.4.2 Possum Data.csv\")\n",
    "\n",
    "#drop empty rows in age column to match arff file provided\n",
    "cleaned_possum_data = possum_data.dropna(subset = [\"age\"]) \n",
    "\n",
    "X = cleaned_possum_data[\"totlngth\"].values.reshape(-1,1)\n",
    "y = cleaned_possum_data[\"hdlngth\"] #target\n",
    "\n",
    "plt.scatter(X,y)\n",
    "plt.title(\"Possum Size\")\n",
    "plt.xlabel(\"Total Length\")\n",
    "plt.ylabel(\"Head Length\")"
   ]
  },
  {
   "cell_type": "code",
   "execution_count": 112,
   "id": "59eb7717",
   "metadata": {},
   "outputs": [
    {
     "name": "stdout",
     "output_type": "stream",
     "text": [
      "coefficient?\n",
      "0.29780167277757974\n",
      "mean absolute error\n",
      "2.034931301217301\n",
      "root mean squared error\n",
      "2.6370033666418045\n",
      "total number of instances\n",
      "102\n"
     ]
    }
   ],
   "source": [
    "#define cross-validation method to use\n",
    "cv = KFold(n_splits=10, random_state=1, shuffle=True)\n",
    "\n",
    "#build multiple linear regression model\n",
    "model = LinearRegression()\n",
    "\n",
    "#use k-fold CV to evaluate model\n",
    "#coeff?\n",
    "coef = cross_val_score(model, X, y, scoring=\"r2\", cv=cv, n_jobs=-1)\n",
    "#mae\n",
    "mae = cross_val_score(model, X, y, scoring='neg_mean_absolute_error', cv=cv, n_jobs=-1)\n",
    "#rmse\n",
    "rsme = cross_val_score(model, X, y, scoring='neg_mean_squared_error', cv=cv, n_jobs=-1)\n",
    "\n",
    "print(\"coefficient?\")\n",
    "print(np.mean(coef))\n",
    "print(\"mean absolute error\")\n",
    "print(np.mean(np.absolute(mae)))\n",
    "print(\"root mean squared error\")\n",
    "print(np.sqrt(np.mean(np.absolute(rsme))))\n",
    "\n",
    "print(\"total number of instances\")\n",
    "print(len(X))"
   ]
  },
  {
   "cell_type": "code",
   "execution_count": null,
   "id": "729566a1",
   "metadata": {},
   "outputs": [],
   "source": []
  }
 ],
 "metadata": {
  "kernelspec": {
   "display_name": "Python 3 (ipykernel)",
   "language": "python",
   "name": "python3"
  },
  "language_info": {
   "codemirror_mode": {
    "name": "ipython",
    "version": 3
   },
   "file_extension": ".py",
   "mimetype": "text/x-python",
   "name": "python",
   "nbconvert_exporter": "python",
   "pygments_lexer": "ipython3",
   "version": "3.9.7"
  }
 },
 "nbformat": 4,
 "nbformat_minor": 5
}
